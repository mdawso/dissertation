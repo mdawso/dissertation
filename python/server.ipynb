{
 "cells": [
  {
   "cell_type": "code",
   "execution_count": 1,
   "metadata": {},
   "outputs": [],
   "source": [
    "import torch as T\n",
    "import torch.nn as nn\n",
    "import torch.nn.functional as F\n",
    "import torch.optim as optim\n",
    "\n",
    "import socket\n",
    "import json\n",
    "import random"
   ]
  },
  {
   "cell_type": "code",
   "execution_count": 2,
   "metadata": {},
   "outputs": [],
   "source": [
    "# pytorch setup\n",
    "device = T.device(\"cuda\" if T.cuda.is_available() else \"cpu\")\n",
    "\n",
    "# model definition\n",
    "class DQN(nn.Module):\n",
    "    \n",
    "    def __init__(self, n_observations, n_actions):\n",
    "        super(DQN, self).__init__()\n",
    "        self.fc1 = nn.Linear(n_observations, 128)\n",
    "        self.fc2 = nn.Linear(128, 128)\n",
    "        self.fc3 = nn.Linear(128, n_actions)\n",
    "        \n",
    "    def forward(self, x):\n",
    "        x = F.relu(self.fc1(x))\n",
    "        x = F.relu(self.fc2(x))\n",
    "        x = self.fc3(x)\n",
    "        return x"
   ]
  },
  {
   "cell_type": "code",
   "execution_count": null,
   "metadata": {},
   "outputs": [
    {
     "name": "stdout",
     "output_type": "stream",
     "text": [
      "Waiting for connection...\n",
      "Connection established with:  ('127.0.0.1', 55200)\n"
     ]
    }
   ],
   "source": [
    "TCP_IP = \"127.0.0.1\"\n",
    "TCP_PORT = 9876\n",
    "\n",
    "# start a server\n",
    "sock = socket.socket(socket.AF_INET, socket.SOCK_STREAM)\n",
    "sock.bind((TCP_IP, TCP_PORT))\n",
    "\n",
    "# listen for incoming connections\n",
    "sock.listen(1)\n",
    "\n",
    "# keep trying until a connection is established\n",
    "print(\"Waiting for connection...\")\n",
    "\n",
    "# setup with godot\n",
    "conn, addr = sock.accept()\n",
    "print(\"Connection established with: \", addr)\n",
    "\n",
    "data = json.loads(conn.recv(1024).decode())\n",
    "\n",
    "numOfObservations = data[\"numOfObservations\"]\n",
    "numOfActions = data[\"numOfActions\"]\n",
    "\n",
    "print(\"Number of observations: \", numOfObservations)\n",
    "print(\"Number of actions: \", numOfActions)"
   ]
  },
  {
   "cell_type": "code",
   "execution_count": 4,
   "metadata": {},
   "outputs": [],
   "source": [
    "# instantiate the model\n",
    "model = DQN(numOfObservations, numOfActions).to(device)\n",
    "\n",
    "# hyperparameters\n",
    "lr = 0.001\n",
    "optimizer = optim.Adam(model.parameters(), lr=lr)\n",
    "loss = nn.MSELoss()\n",
    "\n",
    "numIterations = 1000"
   ]
  }
 ],
 "metadata": {
  "kernelspec": {
   "display_name": ".venv",
   "language": "python",
   "name": "python3"
  },
  "language_info": {
   "codemirror_mode": {
    "name": "ipython",
    "version": 3
   },
   "file_extension": ".py",
   "mimetype": "text/x-python",
   "name": "python",
   "nbconvert_exporter": "python",
   "pygments_lexer": "ipython3",
   "version": "3.12.4"
  }
 },
 "nbformat": 4,
 "nbformat_minor": 2
}
